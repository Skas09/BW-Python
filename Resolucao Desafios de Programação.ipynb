{
 "cells": [
  {
   "cell_type": "markdown",
   "metadata": {},
   "source": [
    "### 1 - reconcile_accounts"
   ]
  },
  {
   "cell_type": "code",
   "execution_count": 1,
   "metadata": {},
   "outputs": [],
   "source": [
    "# Imports\n",
    "import csv\n",
    "import pandas as pd\n",
    "from pathlib import Path\n",
    "from pprint import pprint\n",
    "from core_logic_classes import Transaction\n",
    "from core_logic_classes import TransactionReconciler"
   ]
  },
  {
   "cell_type": "code",
   "execution_count": null,
   "metadata": {},
   "outputs": [],
   "source": [
    "# 1 - Create Example CSV Files for Transaction Reconciliation\n",
    "\n",
    "# Data for transactions1.csv\n",
    "transactions1_data = [\n",
    "    ['2020-12-04', 'Tecnologia', '16.00', 'Bitbucket'],\n",
    "    ['2020-12-04', 'Jurídico', '60.00', 'LinkSquares'],\n",
    "    ['2020-12-05', 'Tecnologia', '50.00', 'AWS'],\n",
    "]\n",
    "\n",
    "# Data for transactions2.csv\n",
    "transactions2_data = [\n",
    "    ['2020-12-04', 'Tecnologia', '16.00', 'Bitbucket'],\n",
    "    ['2020-12-05', 'Tecnologia', '49.99', 'AWS'],\n",
    "    ['2020-12-04', 'Jurídico', '60.00', 'LinkSquares'],\n",
    "]\n",
    "\n",
    "# Save both transaction groups to CSV\n",
    "with open('transactions1.csv', 'w', newline='', encoding='utf-8') as file1:\n",
    "    writer = csv.writer(file1)\n",
    "    writer.writerows(transactions1_data)\n",
    "\n",
    "with open('transactions2.csv', 'w', newline='', encoding='utf-8') as file2:\n",
    "    writer = csv.writer(file2)\n",
    "    writer.writerows(transactions2_data)\n",
    "\n",
    "print(\"CSV files created successfully!\")\n"
   ]
  },
  {
   "cell_type": "code",
   "execution_count": 2,
   "metadata": {},
   "outputs": [],
   "source": [
    "# 2 - Reconcile Transactions from Two CSV Files\n",
    "from typing import List, Tuple\n",
    "\n",
    "def reconcile_accounts(data1: List[List[str]], data2: List[List[str]]) -> Tuple[List[List[str]], List[List[str]]]:\n",
    "    \"\"\"\n",
    "    Reconciles two groups of transactions represented as lists of lists.\n",
    "\n",
    "    Each transaction is converted into a Transaction object and then passed\n",
    "    to the TransactionReconciler to determine matches based on department,\n",
    "    value, beneficiary, and ±1 day date tolerance.\n",
    "\n",
    "    Args:\n",
    "        data1 (List[List[str]]): Raw transaction data from the first file.\n",
    "        data2 (List[List[str]]): Raw transaction data from the second file.\n",
    "\n",
    "    Returns:\n",
    "        Tuple[List[List[str]], List[List[str]]]: Two lists of transactions with\n",
    "        an additional column indicating 'FOUND' or 'MISSING'.\n",
    "    \"\"\"\n",
    "\n",
    "    # Convert each row to a Transaction object\n",
    "    group_a = [Transaction.from_list(row) for row in data1]\n",
    "    group_b = [Transaction.from_list(row) for row in data2]\n",
    "\n",
    "    # Reconcile using the helper class\n",
    "    reconciler = TransactionReconciler(group_a, group_b)\n",
    "    return reconciler.reconcile()\n"
   ]
  },
  {
   "cell_type": "code",
   "execution_count": null,
   "metadata": {},
   "outputs": [],
   "source": [
    "# 3 - Load Transaction CSVs, Reconcile, and Display Results\n",
    "\n",
    "# Read CSV files into DataFrames\n",
    "transactions1_df = Transaction.read_transaction_csv(\"transactions1.csv\")\n",
    "transactions2_df = Transaction.read_transaction_csv(\"transactions2.csv\")\n",
    "\n",
    "# Convert DataFrames to list of lists (raw data format)\n",
    "transactions1_data = transactions1_df.values.tolist()\n",
    "transactions2_data = transactions2_df.values.tolist()\n",
    "\n",
    "# Reconcile transactions using the core function\n",
    "out1, out2 = reconcile_accounts(transactions1_data, transactions2_data)\n",
    "\n",
    "# Print results\n",
    "from pprint import pprint\n",
    "pprint(out1)\n",
    "pprint(out2)"
   ]
  },
  {
   "cell_type": "code",
   "execution_count": null,
   "metadata": {},
   "outputs": [],
   "source": [
    "# 4 - Optional: Saving the reconciled transactions to CSV files\n",
    "TransactionReconciler.save_reconcile_csv(out1, \"transactions1_reconciled.csv\", out2, \"transactions2_reconciled.csv\")"
   ]
  },
  {
   "cell_type": "markdown",
   "metadata": {},
   "source": [
    "### 2 - last_lines"
   ]
  },
  {
   "cell_type": "code",
   "execution_count": null,
   "metadata": {},
   "outputs": [],
   "source": [
    "# 0 - Optional Creating a sample file to test the last_lines function\n",
    "file_content = \"\"\"This is a file\n",
    "This is line 2\n",
    "And this is line 3\n",
    "\"\"\"\n",
    "\n",
    "with open(\"my_file.txt\", \"w\", encoding=\"utf-8\") as f:\n",
    "    f.write(file_content)\n",
    "\n",
    "print(\"File 'my_file.txt' created successfully!\")"
   ]
  },
  {
   "cell_type": "code",
   "execution_count": 3,
   "metadata": {},
   "outputs": [],
   "source": [
    "# Importing the txt_lines class from core_logic_classes\n",
    "from core_logic_classes import txt_lines\n",
    "\n",
    "# It is possible to change the path of the txt file here.\n",
    "str_path = \"my_file.txt\"\n",
    "txt_file_obj = txt_lines(str_path)\n",
    "\n",
    "def last_lines(lines):\n",
    "    \"\"\"\n",
    "    Prints each line from the given list after stripping trailing whitespace.\n",
    "\n",
    "    Args:\n",
    "        lines (list[str]): List of lines to print.\n",
    "    \"\"\"\n",
    "    for line in lines:\n",
    "        print(line.strip())\n"
   ]
  },
  {
   "cell_type": "code",
   "execution_count": null,
   "metadata": {},
   "outputs": [
    {
     "data": {
      "text/plain": [
       "['This is a file\\n', 'This is line 2\\n', 'And this is line 3\\n']"
      ]
     },
     "execution_count": 4,
     "metadata": {},
     "output_type": "execute_result"
    }
   ],
   "source": [
    "# 1 - Calling the read_lines method: read the lines in txt file and return a list of strings.\n",
    "txt_file_obj.read_lines()"
   ]
  },
  {
   "cell_type": "code",
   "execution_count": null,
   "metadata": {},
   "outputs": [
    {
     "data": {
      "text/plain": [
       "['And this is line 3\\n', 'This is line 2\\n', 'This is a file\\n']"
      ]
     },
     "execution_count": 5,
     "metadata": {},
     "output_type": "execute_result"
    }
   ],
   "source": [
    "# 2 - Calling reverse_lines_chunked method: read list of lines in txt and return a list of strings in reverse order.\n",
    "lines = txt_file_obj.reverse_lines_chunked()\n",
    "lines"
   ]
  },
  {
   "cell_type": "code",
   "execution_count": null,
   "metadata": {},
   "outputs": [
    {
     "name": "stdout",
     "output_type": "stream",
     "text": [
      "And this is line 3\n",
      "This is line 2\n",
      "This is a file\n"
     ]
    }
   ],
   "source": [
    "# 3 - Calling the last_lines function: print the content of the txt in reverse order.\n",
    "last_lines(lines)"
   ]
  },
  {
   "cell_type": "code",
   "execution_count": 7,
   "metadata": {},
   "outputs": [
    {
     "data": {
      "text/plain": [
       "'And this is line 3\\n'"
      ]
     },
     "execution_count": 7,
     "metadata": {},
     "output_type": "execute_result"
    }
   ],
   "source": [
    "# 4 - Using the iterator to read lines one by one. -> Run this cell multiple times to see the iterator in action.\n",
    "txt_file_obj.__next__()"
   ]
  },
  {
   "cell_type": "code",
   "execution_count": null,
   "metadata": {},
   "outputs": [],
   "source": [
    "# 5 - Using reset method to reset the iterator.\n",
    "txt_file_obj.reset()"
   ]
  },
  {
   "cell_type": "markdown",
   "metadata": {},
   "source": [
    "### 3 - computed_property"
   ]
  },
  {
   "cell_type": "code",
   "execution_count": 9,
   "metadata": {},
   "outputs": [],
   "source": [
    "from core_logic_classes import computed_property # Function which has the decorator to create a computed property and call the wrapper function."
   ]
  },
  {
   "cell_type": "code",
   "execution_count": 10,
   "metadata": {},
   "outputs": [],
   "source": [
    "class Vector:\n",
    "    def __init__(self, x, y, z, color=None):\n",
    "        \"\"\"\n",
    "        Initializes a 3D vector with optional color.\n",
    "\n",
    "        Args:\n",
    "            x (float): X-coordinate\n",
    "            y (float): Y-coordinate\n",
    "            z (float): Z-coordinate\n",
    "            color (str, optional): Optional color label\n",
    "        \"\"\"\n",
    "        self.x, self.y, self.z = x, y, z\n",
    "        self.color = color\n",
    "\n",
    "    @computed_property('x', 'y', 'z')\n",
    "    def magnitude(self):\n",
    "        \"\"\"\n",
    "        Returns the Euclidean norm of the vector.\n",
    "        This property is cached and only recalculated if x, y, or z changes.\n",
    "        \"\"\"\n",
    "        print(\"computing magnitude\")\n",
    "        return (self.x**2 + self.y**2 + self.z**2) ** 0.5\n",
    "    \n",
    "v = Vector(3, 4, 0)"
   ]
  },
  {
   "cell_type": "code",
   "execution_count": null,
   "metadata": {},
   "outputs": [
    {
     "name": "stdout",
     "output_type": "stream",
     "text": [
      "computing magnitude\n"
     ]
    },
    {
     "data": {
      "text/plain": [
       "5.0"
      ]
     },
     "execution_count": 11,
     "metadata": {},
     "output_type": "execute_result"
    }
   ],
   "source": [
    "# Printing the method for the first time -> It should compute the magnitude and print \"computing magnitude\".\n",
    "v.magnitude"
   ]
  },
  {
   "cell_type": "code",
   "execution_count": null,
   "metadata": {},
   "outputs": [
    {
     "data": {
      "text/plain": [
       "5.0"
      ]
     },
     "execution_count": 12,
     "metadata": {},
     "output_type": "execute_result"
    }
   ],
   "source": [
    "# Printing the method for the second time -> It should not compute the magnitude again, returning the cached value.\n",
    "v.magnitude"
   ]
  },
  {
   "cell_type": "code",
   "execution_count": 13,
   "metadata": {},
   "outputs": [
    {
     "name": "stdout",
     "output_type": "stream",
     "text": [
      "computing magnitude\n"
     ]
    },
    {
     "data": {
      "text/plain": [
       "11.0"
      ]
     },
     "execution_count": 13,
     "metadata": {},
     "output_type": "execute_result"
    }
   ],
   "source": [
    "# Changing the value of the vector to test the decorator and the cache storaged value.\n",
    "v = Vector(9,2,6)\n",
    "v.magnitude"
   ]
  },
  {
   "cell_type": "code",
   "execution_count": 14,
   "metadata": {},
   "outputs": [
    {
     "data": {
      "text/plain": [
       "11.0"
      ]
     },
     "execution_count": 14,
     "metadata": {},
     "output_type": "execute_result"
    }
   ],
   "source": [
    "# Changing the value of a parameter that is not in the decorator.\n",
    "v.color = 'red'\n",
    "v.magnitude"
   ]
  },
  {
   "cell_type": "code",
   "execution_count": null,
   "metadata": {},
   "outputs": [
    {
     "name": "stdout",
     "output_type": "stream",
     "text": [
      "computing magnitude\n"
     ]
    },
    {
     "data": {
      "text/plain": [
       "21.0"
      ]
     },
     "execution_count": 15,
     "metadata": {},
     "output_type": "execute_result"
    }
   ],
   "source": [
    "# Changing the value of a parameter that is in the decorator.\n",
    "v.y = 18\n",
    "v.magnitude"
   ]
  },
  {
   "cell_type": "code",
   "execution_count": 16,
   "metadata": {},
   "outputs": [
    {
     "data": {
      "text/plain": [
       "21.0"
      ]
     },
     "execution_count": 16,
     "metadata": {},
     "output_type": "execute_result"
    }
   ],
   "source": [
    "# Check if cached value remains when dependencies don't change\n",
    "v.y = 18\n",
    "v.magnitude"
   ]
  },
  {
   "cell_type": "code",
   "execution_count": null,
   "metadata": {},
   "outputs": [
    {
     "name": "stdout",
     "output_type": "stream",
     "text": [
      "🔹 Initial diameter access:\n",
      "computing diameter\n",
      "2\n",
      "\n",
      "🔹 Accessing diameter again (should use cache):\n",
      "2\n",
      "\n",
      "🔹 Changing diameter via setter to 10:\n",
      "New radius: 5.0\n",
      "computing diameter\n",
      "Recomputed diameter: 10.0\n",
      "\n",
      "🔹 Deleting diameter (resets radius):\n",
      "Radius after deletion: 0\n"
     ]
    }
   ],
   "source": [
    "class Circle:\n",
    "    def __init__(self, radius=1):\n",
    "        \"\"\"\n",
    "        Initializes a circle with a given radius.\n",
    "        \n",
    "        Args:\n",
    "            radius (float): Radius of the circle. Default is 1.\n",
    "        \"\"\"\n",
    "        self.radius = radius\n",
    "\n",
    "    @computed_property('radius','area') # 'area' is safely ignored if missing\n",
    "    def diameter(self):\n",
    "        \"\"\"\n",
    "        Computes the diameter of the circle.\n",
    "        Cached as long as radius remains unchanged.\n",
    "        \"\"\"\n",
    "        print('computing diameter')\n",
    "        return self.radius * 2\n",
    "\n",
    "    @diameter.setter\n",
    "    def diameter(self, d):\n",
    "        \"\"\"\n",
    "        Updates the radius based on a new diameter.\n",
    "        \"\"\"\n",
    "        self.radius = d / 2\n",
    "\n",
    "    @diameter.deleter\n",
    "    def diameter(self):\n",
    "        \"\"\"\n",
    "        Resets the radius to zero.\n",
    "        \"\"\"\n",
    "        self.radius = 0\n",
    "\n",
    "circle = Circle()\n",
    "\n",
    "print(\"🔹 Initial diameter access:\")\n",
    "print(circle.diameter)\n",
    "\n",
    "print(\"\\n🔹 Accessing diameter again (should use cache):\")\n",
    "print(circle.diameter)\n",
    "\n",
    "print(\"\\n🔹 Changing diameter via setter to 10:\")\n",
    "circle.diameter = 10\n",
    "print(f\"New radius: {circle.radius}\")\n",
    "\n",
    "print(\"\\n🔹 Deleting diameter (resets radius):\")\n",
    "del circle.diameter\n",
    "print(f\"Radius after deletion: {circle.radius}\")"
   ]
  },
  {
   "cell_type": "code",
   "execution_count": 20,
   "metadata": {},
   "outputs": [
    {
     "name": "stdout",
     "output_type": "stream",
     "text": [
      "computing diameter\n"
     ]
    },
    {
     "data": {
      "text/plain": [
       "2"
      ]
     },
     "execution_count": 20,
     "metadata": {},
     "output_type": "execute_result"
    }
   ],
   "source": [
    "circle = Circle()\n",
    "circle.diameter"
   ]
  },
  {
   "cell_type": "code",
   "execution_count": 21,
   "metadata": {},
   "outputs": [
    {
     "data": {
      "text/plain": [
       "2"
      ]
     },
     "execution_count": 21,
     "metadata": {},
     "output_type": "execute_result"
    }
   ],
   "source": [
    "# Checking if the computed_property is respecting the cache value when a MISSING parameter is passed ('area' in this case).\n",
    "circle.diameter"
   ]
  },
  {
   "cell_type": "code",
   "execution_count": 22,
   "metadata": {},
   "outputs": [
    {
     "name": "stdout",
     "output_type": "stream",
     "text": [
      "computing diameter\n"
     ]
    },
    {
     "data": {
      "text/plain": [
       "4"
      ]
     },
     "execution_count": 22,
     "metadata": {},
     "output_type": "execute_result"
    }
   ],
   "source": [
    "# Checking if the setter method trrigers the computed property when the computed property has a unused parameter ('area')\n",
    "circle.radius = 2\n",
    "circle.diameter"
   ]
  },
  {
   "cell_type": "code",
   "execution_count": 23,
   "metadata": {},
   "outputs": [
    {
     "data": {
      "text/plain": [
       "4"
      ]
     },
     "execution_count": 23,
     "metadata": {},
     "output_type": "execute_result"
    }
   ],
   "source": [
    "# Checking if the setter method trrigers the computed property when the computed property has a unused parameter ('area')\n",
    "circle.radius = 2\n",
    "circle.diameter"
   ]
  },
  {
   "cell_type": "code",
   "execution_count": 24,
   "metadata": {},
   "outputs": [
    {
     "name": "stdout",
     "output_type": "stream",
     "text": [
      "Help on class Circle in module __main__:\n",
      "\n",
      "class Circle(builtins.object)\n",
      " |  Circle(radius=1)\n",
      " |  \n",
      " |  Methods defined here:\n",
      " |  \n",
      " |  __init__(self, radius=1)\n",
      " |      Initializes a circle with a given radius.\n",
      " |      \n",
      " |      Args:\n",
      " |          radius (float): Radius of the circle. Default is 1.\n",
      " |  \n",
      " |  __setattr__ = custom_setattr(self, name, value)\n",
      " |  \n",
      " |  ----------------------------------------------------------------------\n",
      " |  Data descriptors defined here:\n",
      " |  \n",
      " |  __dict__\n",
      " |      dictionary for instance variables (if defined)\n",
      " |  \n",
      " |  __weakref__\n",
      " |      list of weak references to the object (if defined)\n",
      " |  \n",
      " |  diameter\n",
      " |      Computes the diameter of the circle.\n",
      " |      Cached as long as radius remains unchanged.\n",
      "\n"
     ]
    }
   ],
   "source": [
    "# Checking the docstring treatment of the computed_property\n",
    "help(Circle)"
   ]
  }
 ],
 "metadata": {
  "kernelspec": {
   "display_name": "bwgi",
   "language": "python",
   "name": "python3"
  },
  "language_info": {
   "codemirror_mode": {
    "name": "ipython",
    "version": 3
   },
   "file_extension": ".py",
   "mimetype": "text/x-python",
   "name": "python",
   "nbconvert_exporter": "python",
   "pygments_lexer": "ipython3",
   "version": "3.9.21"
  }
 },
 "nbformat": 4,
 "nbformat_minor": 2
}
